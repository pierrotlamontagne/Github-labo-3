{
 "cells": [
  {
   "cell_type": "code",
   "execution_count": 9,
   "metadata": {},
   "outputs": [],
   "source": [
    "import numpy as np\n",
    "import matplotlib.pyplot as plt\n",
    "from astropy import table\n",
    "from scipy.optimize import curve_fit"
   ]
  },
  {
   "cell_type": "markdown",
   "metadata": {},
   "source": [
    "On importe les données"
   ]
  },
  {
   "cell_type": "code",
   "execution_count": 41,
   "metadata": {},
   "outputs": [],
   "source": [
    "lamda_doublet, counts_doublet = np.loadtxt(\"Données/doublet_sodium.txt\", unpack = True, skiprows = 17)\n",
    "\n",
    "lamda_or_brute, counts_or_brute = np.loadtxt(\"Données/echantillon_or.txt\", unpack = True, skiprows = 17)\n",
    "lamda_or_calib, counts_or_calib = np.loadtxt(\"Données/sans_echantillon_or.txt\", unpack = True, skiprows = 17)\n",
    "\n",
    "lamda_GaSe_brute, counts_GaSe_brute = np.loadtxt(\"Données/echantillon_GaSe.txt\", unpack = True, skiprows = 17)\n",
    "lamda_GaSe_calib, counts_GaSe_calib = np.loadtxt(\"Données/sans_echantillon_GaSe.txt\", unpack = True, skiprows = 17)\n",
    "\n",
    "lamda_un_0, counts_un_0 = np.loadtxt(\"Données/un0.txt\", unpack = True, skiprows = 17)\n",
    "\n",
    "lamda_deux_0, counts_deux_0 = np.loadtxt(\"Données/deux0.txt\", unpack = True, skiprows = 17)\n",
    "\n",
    "lamda_trois_0, counts_trois_0 = np.loadtxt(\"Données/trois0.txt\", unpack = True, skiprows = 17)\n",
    "\n",
    "lamda_vitre_0, counts_vitre_0 = np.loadtxt(\"Données/vitre0.txt\", unpack = True, skiprows = 17)\n"
   ]
  },
  {
   "cell_type": "markdown",
   "metadata": {},
   "source": [
    "On fit le doublet de sodium pour déterminer la résolution du spectrographe"
   ]
  },
  {
   "cell_type": "code",
   "execution_count": 48,
   "metadata": {},
   "outputs": [
    {
     "name": "stdout",
     "output_type": "stream",
     "text": [
      "H = 3165.690117546604, A = 55778.20194856248, x0 = 588.4706966006324, sigma = 0.6845731444903931\n"
     ]
    },
    {
     "data": {
      "image/png": "[encoded data removed]",
      "text/plain": [
       "<Figure size 432x288 with 1 Axes>"
      ]
     },
     "metadata": {
      "needs_background": "light"
     },
     "output_type": "display_data"
    }
   ],
   "source": [
    "lamda_doublet_gauss, counts_doublet_gauss = lamda_doublet[1100:1200], counts_doublet[1100:1200] #On isole la gaussienne\n",
    "\n",
    "#Faison un fit gaussien sur la courbe\n",
    "def gauss(x, H, A, x0, sigma):\n",
    "    return H + A * np.exp(-(x - x0) ** 2 / (2 * sigma ** 2))\n",
    "\n",
    "p0 = [2000, 6e4, 587, 3] #Initial guess\n",
    "p_opt, p_cov = curve_fit(gauss, lamda_doublet_gauss, counts_doublet_gauss, p0)\n",
    "print(\"H = {}, A = {}, x0 = {}, sigma = {}\".format(p_opt[0], p_opt[1], p_opt[2], p_opt[3]))\n",
    "\n",
    "H, A, x0, sigma = p_opt[0], p_opt[1], p_opt[2], p_opt[3]\n",
    "\n",
    "y_fit = gauss(lamda_doublet_gauss,H, A, x0, sigma)\n",
    "\n",
    "plt.plot(lamda_doublet_gauss, counts_doublet_gauss, label = \"Doublet de sodium\")\n",
    "plt.plot(lamda_doublet_gauss, y_fit, label = \"fit gaussien\")\n",
    "plt.xlabel(\"Longueur d'onde (nm)\")\n",
    "plt.ylabel(\"Counts\")\n",
    "plt.legend()\n",
    "plt.savefig(\"Graphiques/fit_gaussien.pdf\")\n",
    "plt.show()"
   ]
  },
  {
   "cell_type": "markdown",
   "metadata": {},
   "source": [
    "Détermination de la résolution pour l'incertitude"
   ]
  },
  {
   "cell_type": "code",
   "execution_count": 47,
   "metadata": {},
   "outputs": [
    {
     "name": "stdout",
     "output_type": "stream",
     "text": [
      "Résolution du spectromètre: 365.79445804824735\n"
     ]
    }
   ],
   "source": [
    "fwhm = 2.35*sigma #Largeur à mi-hauteur de la gaussienne\n",
    "\n",
    "res = x0/fwhm\n",
    "print(\"Résolution du spectromètre: {}\".format(res)) #Résolution du spectromètre\n",
    "\n",
    "def erreur_lambda(lamda): \n",
    "    \n",
    "    inc = lamda/res\n",
    "\n",
    "    return inc\n",
    "\n"
   ]
  },
  {
   "cell_type": "markdown",
   "metadata": {},
   "source": [
    "gap d'énergie/phonon"
   ]
  },
  {
   "cell_type": "code",
   "execution_count": 10,
   "metadata": {},
   "outputs": [
    {
     "data": {
      "text/plain": [
       "3000.0"
      ]
     },
     "execution_count": 10,
     "metadata": {},
     "output_type": "execute_result"
    }
   ],
   "source": [
    "with open(\"Données/echantillon_GaSe.txt\") as GaSe_brute:\n",
    "    int_time_brute = float(list(GaSe_brute)[8].split(\":\")[1].split(\"(\")[0])\n",
    "    \n",
    "with open(\"Données/sans_echantillon_GaSe.txt\") as GaSe_calib:\n",
    "    int_time_calib = float(list(GaSe_calib)[8].split(\":\")[1].split(\"(\")[0])\n",
    "    \n"
   ]
  },
  {
   "cell_type": "code",
   "execution_count": null,
   "metadata": {},
   "outputs": [],
   "source": []
  }
 ],
 "metadata": {
  "kernelspec": {
   "display_name": "Python 3.8.13 ('base')",
   "language": "python",
   "name": "python3"
  },
  "language_info": {
   "codemirror_mode": {
    "name": "ipython",
    "version": 3
   },
   "file_extension": ".py",
   "mimetype": "text/x-python",
   "name": "python",
   "nbconvert_exporter": "python",
   "pygments_lexer": "ipython3",
   "version": "3.8.13"
  },
  "orig_nbformat": 4,
  "vscode": {
   "interpreter": {
    "hash": "6273220d8bc7ae11b70a9635d3a5f0503e91b14cd88235f8dad01f4cd2f542b3"
   }
  }
 },
 "nbformat": 4,
 "nbformat_minor": 2
}
